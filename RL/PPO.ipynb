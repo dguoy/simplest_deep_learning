{
 "cells": [
  {
   "cell_type": "code",
   "execution_count": null,
   "metadata": {},
   "outputs": [],
   "source": [
    "import tensorflow as tf\n",
    "import numpy as np\n",
    "import gym"
   ]
  },
  {
   "cell_type": "code",
   "execution_count": null,
   "metadata": {},
   "outputs": [],
   "source": [
    "env = gym.make('CartPole-v1').unwrapped\n",
    "\n",
    "print(env.action_space)\n",
    "print(env.observation_space)\n",
    "print(env.observation_space.high)\n",
    "print(env.observation_space.low)\n",
    "\n",
    "state_space_dim = env.observation_space.shape[0]\n",
    "action_space_dim = env.action_space.n"
   ]
  },
  {
   "cell_type": "code",
   "execution_count": null,
   "metadata": {},
   "outputs": [],
   "source": [
    "P_LR = 0.0001\n",
    "C_LR = 0.0001\n",
    "BATCH_SIZE = 64\n",
    "UPDATE_TIMES = 15\n",
    "EPSILON = 0.2"
   ]
  },
  {
   "cell_type": "code",
   "execution_count": null,
   "metadata": {},
   "outputs": [],
   "source": [
    "state_inputs = tf.placeholder(tf.float32, [None, state_space_dim], name='state_inputs')\n",
    "value_inputs = tf.placeholder(tf.float32, [None], name='value_inputs')\n",
    "advantage_inputs = tf.placeholder(tf.float32, [None], name='advantage_inputs')\n",
    "action_inputs = tf.placeholder(tf.int32, [None], name='action_inputs')"
   ]
  },
  {
   "cell_type": "code",
   "execution_count": null,
   "metadata": {},
   "outputs": [],
   "source": [
    "with tf.variable_scope('critic'):\n",
    "    hidden1 = tf.layers.dense(state_inputs, 32, tf.nn.relu)\n",
    "    hidden2 = tf.layers.dense(hidden1, 32, tf.nn.relu)\n",
    "    values = tf.squeeze(tf.layers.dense(hidden2, 1), axis=-1)\n",
    "    value_loss = tf.reduce_mean(tf.squared_difference(value_inputs, values))\n",
    "    critic_train_op = tf.train.AdamOptimizer(C_LR).minimize(value_loss)\n",
    "\n",
    "with tf.variable_scope('policy'):\n",
    "    hidden1 = tf.layers.dense(state_inputs, 32, tf.nn.relu)\n",
    "    hidden2 = tf.layers.dense(hidden1, 32, tf.nn.relu)\n",
    "    action_logits = tf.layers.dense(hidden2, action_space_dim)\n",
    "    action_probs = tf.nn.softmax(action_logits)\n",
    "    sampled_action = tf.squeeze(tf.multinomial(action_logits, 1), axis=-1)\n",
    "\n",
    "with tf.variable_scope('old_policy'):\n",
    "    hidden1 = tf.layers.dense(state_inputs, 32, tf.nn.relu, trainable=False)\n",
    "    hidden2 = tf.layers.dense(hidden1, 32, tf.nn.relu, trainable=False)\n",
    "    old_action_logits = tf.layers.dense(hidden2, action_space_dim, trainable=False)\n",
    "    old_action_probs = tf.nn.softmax(old_action_logits)\n",
    "\n",
    "action_one_hot = tf.one_hot(action_inputs, action_space_dim)\n",
    "ratio = tf.reduce_sum(action_one_hot * action_probs, axis=-1) \\\n",
    "        / tf.reduce_sum(action_one_hot * old_action_probs, axis=-1)\n",
    "policy_loss = -tf.reduce_mean(\n",
    "    tf.minimum(ratio * advantage_inputs,\n",
    "               tf.clip_by_value(ratio, 1.0-EPSILON, 1.0+EPSILON) * advantage_inputs)\n",
    ")\n",
    "policy_train_op = tf.train.AdamOptimizer(P_LR).minimize(policy_loss)\n",
    "\n",
    "policy_params = tf.get_collection(tf.GraphKeys.GLOBAL_VARIABLES, scope='policy')\n",
    "old_policy_params = tf.get_collection(tf.GraphKeys.GLOBAL_VARIABLES, scope='old_policy')\n",
    "update_old_policy_op = [old_p.assign(p) for old_p, p in zip(old_policy_params, policy_params)]\n",
    "\n",
    "def returns_advantages(replay_buffer, next_value, gamma=0.99):\n",
    "    rewards = [rb['r'] for rb in replay_buffer]\n",
    "    values = [rb['v'] for rb in replay_buffer]\n",
    "    dones = [rb['done'] for rb in replay_buffer]\n",
    "\n",
    "    returns = np.append(np.zeros_like(rewards), next_value)\n",
    "    for t in reversed(range(len(replay_buffer))):\n",
    "        returns[t] = rewards[t] + gamma * returns[t+1] * (1-dones[t])\n",
    "    returns = returns[:-1]\n",
    "    advantages = returns - values\n",
    "    return returns, advantages"
   ]
  },
  {
   "cell_type": "code",
   "execution_count": null,
   "metadata": {},
   "outputs": [],
   "source": [
    "sess = tf.Session()\n",
    "sess.run(tf.global_variables_initializer())"
   ]
  },
  {
   "cell_type": "code",
   "execution_count": null,
   "metadata": {},
   "outputs": [],
   "source": [
    "state = env.reset()\n",
    "total_rewards = [0.0]\n",
    "for episode in range(2001):\n",
    "    replay_buffer = []\n",
    "    for _ in range(BATCH_SIZE):\n",
    "        act = sess.run(sampled_action, {state_inputs:[state]})[0]\n",
    "        v = sess.run(values, {state_inputs: [state]})[0]\n",
    "\n",
    "        next_state, r, done, _ = env.step(act)\n",
    "        replay_buffer.append({'s':state, 'v':v, 'a':act, 'r':r, 'done':done})\n",
    "        state = next_state\n",
    "        total_rewards[-1] += r\n",
    "        if done:\n",
    "            state = env.reset()\n",
    "            total_rewards.append(0.0)\n",
    "\n",
    "    next_value = sess.run(values, {state_inputs:[next_state]})[0]\n",
    "    returns, advs = returns_advantages(replay_buffer, next_value)\n",
    "\n",
    "    fd = {\n",
    "        state_inputs: [rb['s'] for rb in replay_buffer],\n",
    "        value_inputs: returns,\n",
    "        advantage_inputs: advs,\n",
    "        action_inputs: [rb['a'] for rb in replay_buffer],\n",
    "    }\n",
    "    sess.run(update_old_policy_op)\n",
    "    for _ in range(UPDATE_TIMES):\n",
    "        sess.run(policy_train_op, fd)\n",
    "    for _ in range(UPDATE_TIMES):\n",
    "        sess.run(critic_train_op, fd)\n",
    "\n",
    "    if episode % 100 == 0:\n",
    "        print(\"Episode: {} | Mean Reward of 100 turns is: {:.2f}\".format(\n",
    "            episode, np.mean(total_rewards[-100:])))"
   ]
  },
  {
   "cell_type": "code",
   "execution_count": null,
   "metadata": {},
   "outputs": [],
   "source": []
  }
 ],
 "metadata": {
  "kernelspec": {
   "display_name": "Python 3",
   "language": "python",
   "name": "python3"
  },
  "language_info": {
   "codemirror_mode": {
    "name": "ipython",
    "version": 3
   },
   "file_extension": ".py",
   "mimetype": "text/x-python",
   "name": "python",
   "nbconvert_exporter": "python",
   "pygments_lexer": "ipython3",
   "version": "3.6.5"
  }
 },
 "nbformat": 4,
 "nbformat_minor": 2
}
