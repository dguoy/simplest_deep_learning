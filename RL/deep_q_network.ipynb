{
 "cells": [
  {
   "cell_type": "code",
   "execution_count": null,
   "metadata": {},
   "outputs": [],
   "source": [
    "import tensorflow as tf\n",
    "import numpy as np\n",
    "import gym\n",
    "import random\n",
    "from collections import deque"
   ]
  },
  {
   "cell_type": "code",
   "execution_count": null,
   "metadata": {},
   "outputs": [],
   "source": [
    "env = gym.make('CartPole-v1')\n",
    "env = env.unwrapped\n",
    "\n",
    "print(env.action_space)\n",
    "print(env.observation_space)\n",
    "print(env.observation_space.high)\n",
    "print(env.observation_space.low)\n",
    "\n",
    "state_space_dim = env.observation_space.shape[0]\n",
    "action_space_dim = env.action_space.n\n",
    "\n",
    "states = tf.placeholder(tf.float32, [None, state_space_dim])\n",
    "actions = tf.placeholder(tf.int32, [None])\n",
    "td_q_values = tf.placeholder(tf.float32, [None])\n",
    "\n",
    "with tf.variable_scope('q_network'):\n",
    "    hidden1 = tf.layers.dense(states, 32, tf.nn.relu)\n",
    "    hidden2 = tf.layers.dense(hidden1, 32, tf.nn.relu)\n",
    "    q_values = tf.layers.dense(hidden2, action_space_dim)\n",
    "\n",
    "with tf.variable_scope('loss'):\n",
    "    one_hot_actions = tf.one_hot(actions, action_space_dim)\n",
    "    loss = tf.reduce_mean(tf.squared_difference(\n",
    "        tf.reduce_sum(q_values * one_hot_actions, axis=1),\n",
    "        td_q_values\n",
    "    ))\n",
    "    train_op = tf.train.AdamOptimizer(0.0001).minimize(loss)"
   ]
  },
  {
   "cell_type": "code",
   "execution_count": null,
   "metadata": {},
   "outputs": [],
   "source": [
    "def choose_action(state, epsilon=0.1):\n",
    "    if np.random.uniform() < epsilon:\n",
    "        action = np.random.randint(0, action_space_dim)\n",
    "    else:\n",
    "        action = np.argmax(sess.run(q_values, feed_dict={states:[state]}))\n",
    "    return action\n",
    "\n",
    "def create_td_q_values(mini_batch, gamma=0.99):\n",
    "    td_q_values = []\n",
    "    next_q_values = sess.run(q_values, {states: [rb['next_s'] for rb in mini_batch]})\n",
    "    rewards = [rb['r'] for rb in mini_batch]\n",
    "    dones = [rb['done'] for rb in mini_batch]\n",
    "    for t, (r, nqv, done) in enumerate(zip(rewards, next_q_values, dones)):\n",
    "        if done:\n",
    "            td_q_values.append(rewards[t])\n",
    "        else:\n",
    "            td_q_values.append(rewards[t] + gamma * np.max(next_q_values[t]))\n",
    "    return td_q_values"
   ]
  },
  {
   "cell_type": "code",
   "execution_count": null,
   "metadata": {},
   "outputs": [],
   "source": [
    "sess = tf.Session()\n",
    "sess.run(tf.global_variables_initializer())"
   ]
  },
  {
   "cell_type": "code",
   "execution_count": null,
   "metadata": {},
   "outputs": [],
   "source": [
    "BATCH_SIZE = 64\n",
    "replay_buffer = deque(maxlen=5000)\n",
    "\n",
    "for episode in range(5001):\n",
    "    state = env.reset()\n",
    "    total_reward = 0\n",
    "    while True:\n",
    "        act = choose_action(state)\n",
    "        next_state, r, done, _ = env.step(act)\n",
    "        replay_buffer.append({'s':state, 'a':act, 'r':r, 'next_s':next_state, 'done':done})\n",
    "        state = next_state\n",
    "        total_reward += 1\n",
    "        if done:\n",
    "            break\n",
    "\n",
    "        if len(replay_buffer) > BATCH_SIZE:\n",
    "            mini_batch = random.sample(replay_buffer, BATCH_SIZE)\n",
    "            fd = {\n",
    "                states: [rb['s'] for rb in mini_batch],\n",
    "                actions: [rb['a'] for rb in mini_batch],\n",
    "                td_q_values: create_td_q_values(mini_batch),\n",
    "            }\n",
    "            sess.run(train_op, fd)\n",
    "\n",
    "    if episode % 100 == 0:\n",
    "        print(\"Episode: {} | Reward is: {}\".format(episode, total_reward))"
   ]
  },
  {
   "cell_type": "code",
   "execution_count": null,
   "metadata": {},
   "outputs": [],
   "source": []
  }
 ],
 "metadata": {
  "kernelspec": {
   "display_name": "Python 3",
   "language": "python",
   "name": "python3"
  },
  "language_info": {
   "codemirror_mode": {
    "name": "ipython",
    "version": 3
   },
   "file_extension": ".py",
   "mimetype": "text/x-python",
   "name": "python",
   "nbconvert_exporter": "python",
   "pygments_lexer": "ipython3",
   "version": "3.6.5"
  }
 },
 "nbformat": 4,
 "nbformat_minor": 2
}
