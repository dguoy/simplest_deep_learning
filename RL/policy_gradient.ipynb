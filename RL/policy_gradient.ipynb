{
 "cells": [
  {
   "cell_type": "code",
   "execution_count": null,
   "metadata": {},
   "outputs": [],
   "source": [
    "%matplotlib inline\n",
    "\n",
    "import tensorflow as tf\n",
    "import numpy as np\n",
    "import gym\n",
    "import matplotlib.pyplot as plt"
   ]
  },
  {
   "cell_type": "code",
   "execution_count": null,
   "metadata": {},
   "outputs": [],
   "source": [
    "env = gym.make('CartPole-v1')\n",
    "env = env.unwrapped\n",
    "\n",
    "print(env.action_space)\n",
    "print(env.observation_space)\n",
    "print(env.observation_space.high)\n",
    "print(env.observation_space.low)\n",
    "\n",
    "def discount_rewards(rewards, gamma=0.99):\n",
    "    returns = [0] * (len(rewards) + 1)\n",
    "    for t in reversed(range(len(rewards))):\n",
    "        returns[t] = rewards[t] + gamma * returns[t+1]\n",
    "    returns = returns[:-1]\n",
    "    return returns\n",
    "\n",
    "state_space_dim = env.observation_space.shape[0]\n",
    "action_space_dim = env.action_space.n\n",
    "\n",
    "states = tf.placeholder(tf.float32, [None, state_space_dim])\n",
    "rewards = tf.placeholder(tf.float32, [None])\n",
    "actions = tf.placeholder(tf.int32, [None])\n",
    "\n",
    "with tf.variable_scope('policy'):\n",
    "    hidden1 = tf.layers.dense(states, 32, tf.nn.relu)\n",
    "    hidden2 = tf.layers.dense(hidden1, 32, tf.nn.relu)\n",
    "    action_logits = tf.layers.dense(hidden2, action_space_dim)\n",
    "    action_probs = tf.nn.softmax(action_logits)\n",
    "\n",
    "with tf.variable_scope('loss'):\n",
    "    action_one_hot = tf.one_hot(actions, action_space_dim)\n",
    "    cross_entropy = -tf.reduce_sum(action_one_hot * tf.log(action_probs))\n",
    "    loss = tf.reduce_mean(cross_entropy * rewards)\n",
    "    train_op = tf.train.AdamOptimizer(0.001).minimize(loss)\n",
    "\n",
    "with tf.variable_scope('predict'):\n",
    "    action_predict = tf.squeeze(tf.multinomial(action_logits, 1), axis=-1)\n"
   ]
  },
  {
   "cell_type": "code",
   "execution_count": null,
   "metadata": {},
   "outputs": [],
   "source": [
    "sess = tf.Session()\n",
    "sess.run(tf.global_variables_initializer())"
   ]
  },
  {
   "cell_type": "code",
   "execution_count": null,
   "metadata": {},
   "outputs": [],
   "source": [
    "for episode in range(5001):\n",
    "    replay_buffer = []\n",
    "    state = env.reset()\n",
    "    while True:\n",
    "        act = sess.run(action_predict, {states:[state]})[0]\n",
    "        next_state, r, done, _ = env.step(act)\n",
    "        replay_buffer.append({'s':state, 'a':act, 'r':r})\n",
    "        state = next_state\n",
    "        if done:\n",
    "            break\n",
    "\n",
    "    fd = {\n",
    "        states: [rb['s'] for rb in replay_buffer],\n",
    "        rewards: discount_rewards([rb['r'] for rb in replay_buffer]),\n",
    "        actions: [rb['a'] for rb in replay_buffer],\n",
    "    }\n",
    "    sess.run(train_op, fd)\n",
    "\n",
    "    if episode % 100 == 0:\n",
    "        print(\"Episode: {} | Reward is: {}\".format(episode, np.sum([rb['r'] for rb in replay_buffer])))\n"
   ]
  },
  {
   "cell_type": "code",
   "execution_count": null,
   "metadata": {},
   "outputs": [],
   "source": []
  }
 ],
 "metadata": {
  "kernelspec": {
   "display_name": "Python 3",
   "language": "python",
   "name": "python3"
  },
  "language_info": {
   "codemirror_mode": {
    "name": "ipython",
    "version": 3
   },
   "file_extension": ".py",
   "mimetype": "text/x-python",
   "name": "python",
   "nbconvert_exporter": "python",
   "pygments_lexer": "ipython3",
   "version": "3.6.5"
  }
 },
 "nbformat": 4,
 "nbformat_minor": 2
}
