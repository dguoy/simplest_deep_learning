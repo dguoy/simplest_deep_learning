{
 "cells": [
  {
   "cell_type": "code",
   "execution_count": null,
   "metadata": {},
   "outputs": [],
   "source": [
    "import tensorflow as tf\n",
    "import numpy as np\n",
    "import gym"
   ]
  },
  {
   "cell_type": "code",
   "execution_count": null,
   "metadata": {},
   "outputs": [],
   "source": [
    "env = gym.make('CartPole-v1')\n",
    "env = env.unwrapped\n",
    "\n",
    "print(env.action_space)\n",
    "print(env.observation_space)\n",
    "print(env.observation_space.high)\n",
    "print(env.observation_space.low)\n",
    "\n",
    "state_space_dim = env.observation_space.shape[0]\n",
    "action_space_dim = env.action_space.n\n",
    "\n",
    "state_inputs = tf.placeholder(tf.float32, [None, state_space_dim], name='state_inputs')\n",
    "value_inputs = tf.placeholder(tf.float32, [None], name='value_inputs')\n",
    "advantage_inputs = tf.placeholder(tf.float32, [None], name='advantage_inputs')\n",
    "action_inputs = tf.placeholder(tf.int32, [None], name='action_inputs')\n",
    "\n",
    "with tf.variable_scope('actor_critic'):\n",
    "    hidden1 = tf.layers.dense(state_inputs, 32, tf.nn.relu)\n",
    "    hidden2 = tf.layers.dense(hidden1, 32, tf.nn.relu)\n",
    "    action_logits = tf.layers.dense(hidden2, action_space_dim)\n",
    "    action_probs = tf.nn.softmax(action_logits)\n",
    "    values = tf.squeeze(tf.layers.dense(hidden2, 1), axis=-1)\n",
    "\n",
    "with tf.variable_scope('loss'):\n",
    "    value_loss = tf.reduce_mean(tf.squared_difference(value_inputs, values))\n",
    "    action_one_hot = tf.one_hot(action_inputs, action_space_dim)\n",
    "    cross_entropy = -tf.reduce_sum(action_one_hot * tf.log(action_probs), axis=-1)\n",
    "    policy_loss = tf.reduce_mean(cross_entropy * advantage_inputs)\n",
    "    entropy_loss = -tf.reduce_mean(action_probs * tf.log(action_probs))\n",
    "    loss = policy_loss - 0.0001*entropy_loss + 0.5*value_loss\n",
    "    train_op = tf.train.AdamOptimizer(0.001, beta1=0.0).minimize(loss)\n",
    "\n",
    "with tf.variable_scope('predict'):\n",
    "    action_predict = tf.squeeze(tf.multinomial(action_logits, 1), axis=-1)\n",
    "\n",
    "def returns_advantages(replay_buffer, next_value, gamma=0.99):\n",
    "    rewards = [rb['r'] for rb in replay_buffer]\n",
    "    values = [rb['v'] for rb in replay_buffer]\n",
    "    dones = [rb['done'] for rb in replay_buffer]\n",
    "\n",
    "    returns = np.append(np.zeros_like(rewards), next_value)\n",
    "    for t in reversed(range(len(replay_buffer))):\n",
    "        returns[t] = rewards[t] + gamma * returns[t+1] * (1-dones[t])\n",
    "    returns = returns[:-1]\n",
    "    advantages = returns - values\n",
    "    return returns, advantages"
   ]
  },
  {
   "cell_type": "code",
   "execution_count": null,
   "metadata": {},
   "outputs": [],
   "source": [
    "sess = tf.Session()\n",
    "sess.run(tf.global_variables_initializer())"
   ]
  },
  {
   "cell_type": "code",
   "execution_count": null,
   "metadata": {},
   "outputs": [],
   "source": [
    "BATCH_SIZE = 32\n",
    "\n",
    "state = env.reset()\n",
    "total_rewards = [0.0]\n",
    "for episode in range(5001):\n",
    "    replay_buffer = []\n",
    "    for _ in range(BATCH_SIZE):\n",
    "        act = sess.run(action_predict, {state_inputs:[state]})[0]\n",
    "        v = sess.run(values, {state_inputs: [state]})[0]\n",
    "        next_state, r, done, _ = env.step(act)\n",
    "        replay_buffer.append({'s':state, 'v':v, 'a':act, 'r':r, 'done':done})\n",
    "        state = next_state\n",
    "        total_rewards[-1] += r\n",
    "        if done:\n",
    "            state = env.reset()\n",
    "            total_rewards.append(0.0)\n",
    "\n",
    "    if episode % 100 == 0:\n",
    "        print(\"Episode: {} | Mean Reward of 100 turns is: {:.2f}\".format(episode, np.mean(total_rewards[-100:])))\n",
    "\n",
    "    next_value = sess.run(values, {state_inputs:[next_state]})[0]\n",
    "    returns, advs = returns_advantages(replay_buffer, next_value)\n",
    "\n",
    "    fd = {\n",
    "        state_inputs: [rb['s'] for rb in replay_buffer],\n",
    "        value_inputs: returns,\n",
    "        advantage_inputs: advs,\n",
    "        action_inputs: [rb['a'] for rb in replay_buffer],\n",
    "    }\n",
    "    sess.run(train_op, fd)\n",
    "    "
   ]
  },
  {
   "cell_type": "code",
   "execution_count": null,
   "metadata": {},
   "outputs": [],
   "source": []
  }
 ],
 "metadata": {
  "kernelspec": {
   "display_name": "Python 3",
   "language": "python",
   "name": "python3"
  },
  "language_info": {
   "codemirror_mode": {
    "name": "ipython",
    "version": 3
   },
   "file_extension": ".py",
   "mimetype": "text/x-python",
   "name": "python",
   "nbconvert_exporter": "python",
   "pygments_lexer": "ipython3",
   "version": "3.6.5"
  }
 },
 "nbformat": 4,
 "nbformat_minor": 2
}
